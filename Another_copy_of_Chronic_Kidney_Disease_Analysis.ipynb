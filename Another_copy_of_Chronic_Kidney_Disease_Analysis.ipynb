{
  "cells": [
    {
      "cell_type": "markdown",
      "metadata": {
        "id": "view-in-github",
        "colab_type": "text"
      },
      "source": [
        "<a href=\"https://colab.research.google.com/github/fealfaraj/llSPS-INT-175-Chronic-kidney-disease-analysis/blob/master/Another_copy_of_Chronic_Kidney_Disease_Analysis.ipynb\" target=\"_parent\"><img src=\"https://colab.research.google.com/assets/colab-badge.svg\" alt=\"Open In Colab\"/></a>"
      ]
    },
    {
      "cell_type": "code",
      "execution_count": null,
      "metadata": {
        "id": "ix3SmyJ32mIz"
      },
      "outputs": [],
      "source": [
        "#Import the Libraries"
      ]
    },
    {
      "cell_type": "code",
      "execution_count": null,
      "metadata": {
        "id": "mG2gBz382mI6"
      },
      "outputs": [],
      "source": [
        "import pandas as pd\n",
        "import sklearn\n",
        "import numpy as np\n",
        "import seaborn as sns\n",
        "import matplotlib.pyplot as plt"
      ]
    },
    {
      "cell_type": "code",
      "execution_count": null,
      "metadata": {
        "id": "rTAj7t5c2mI8"
      },
      "outputs": [],
      "source": [
        "#Importing the dataset"
      ]
    },
    {
      "cell_type": "code",
      "execution_count": null,
      "metadata": {
        "colab": {
          "base_uri": "https://localhost:8080/",
          "height": 444
        },
        "id": "laWd4OmR2mI9",
        "outputId": "bb6eb0ef-2312-472b-b6c6-a94c010f8c5b"
      },
      "outputs": [
        {
          "output_type": "execute_result",
          "data": {
            "text/plain": [
              "      id   age    bp     sg   al   su     rbc        pc         pcc  \\\n",
              "0      0  48.0  80.0  1.020  1.0  0.0     NaN    normal  notpresent   \n",
              "1      1   7.0  50.0  1.020  4.0  0.0     NaN    normal  notpresent   \n",
              "2      2  62.0  80.0  1.010  2.0  3.0  normal    normal  notpresent   \n",
              "3      3  48.0  70.0  1.005  4.0  0.0  normal  abnormal     present   \n",
              "4      4  51.0  80.0  1.010  2.0  0.0  normal    normal  notpresent   \n",
              "..   ...   ...   ...    ...  ...  ...     ...       ...         ...   \n",
              "395  395  55.0  80.0  1.020  0.0  0.0  normal    normal  notpresent   \n",
              "396  396  42.0  70.0  1.025  0.0  0.0  normal    normal  notpresent   \n",
              "397  397  12.0  80.0  1.020  0.0  0.0  normal    normal  notpresent   \n",
              "398  398  17.0  60.0  1.025  0.0  0.0  normal    normal  notpresent   \n",
              "399  399  58.0  80.0  1.025  0.0  0.0  normal    normal  notpresent   \n",
              "\n",
              "             ba  ...   pcv      wc   rc  htn   dm  cad  appet   pe  ane  \\\n",
              "0    notpresent  ...  44.0  7800.0  5.2  yes  yes   no   good   no   no   \n",
              "1    notpresent  ...  38.0  6000.0  NaN   no   no   no   good   no   no   \n",
              "2    notpresent  ...  31.0  7500.0  NaN   no  yes   no   poor   no  yes   \n",
              "3    notpresent  ...  32.0  6700.0  3.9  yes   no   no   poor  yes  yes   \n",
              "4    notpresent  ...  35.0  7300.0  4.6   no   no   no   good   no   no   \n",
              "..          ...  ...   ...     ...  ...  ...  ...  ...    ...  ...  ...   \n",
              "395  notpresent  ...  47.0  6700.0  4.9   no   no   no   good   no   no   \n",
              "396  notpresent  ...  54.0  7800.0  6.2   no   no   no   good   no   no   \n",
              "397  notpresent  ...  49.0  6600.0  5.4   no   no   no   good   no   no   \n",
              "398  notpresent  ...  51.0  7200.0  5.9   no   no   no   good   no   no   \n",
              "399  notpresent  ...  53.0  6800.0  6.1   no   no   no   good   no   no   \n",
              "\n",
              "    classification  \n",
              "0              ckd  \n",
              "1              ckd  \n",
              "2              ckd  \n",
              "3              ckd  \n",
              "4              ckd  \n",
              "..             ...  \n",
              "395         notckd  \n",
              "396         notckd  \n",
              "397         notckd  \n",
              "398         notckd  \n",
              "399         notckd  \n",
              "\n",
              "[400 rows x 26 columns]"
            ],
            "text/html": [
              "\n",
              "  <div id=\"df-a9c37c09-9f8b-40ac-a868-19c8525be5c1\" class=\"colab-df-container\">\n",
              "    <div>\n",
              "<style scoped>\n",
              "    .dataframe tbody tr th:only-of-type {\n",
              "        vertical-align: middle;\n",
              "    }\n",
              "\n",
              "    .dataframe tbody tr th {\n",
              "        vertical-align: top;\n",
              "    }\n",
              "\n",
              "    .dataframe thead th {\n",
              "        text-align: right;\n",
              "    }\n",
              "</style>\n",
              "<table border=\"1\" class=\"dataframe\">\n",
              "  <thead>\n",
              "    <tr style=\"text-align: right;\">\n",
              "      <th></th>\n",
              "      <th>id</th>\n",
              "      <th>age</th>\n",
              "      <th>bp</th>\n",
              "      <th>sg</th>\n",
              "      <th>al</th>\n",
              "      <th>su</th>\n",
              "      <th>rbc</th>\n",
              "      <th>pc</th>\n",
              "      <th>pcc</th>\n",
              "      <th>ba</th>\n",
              "      <th>...</th>\n",
              "      <th>pcv</th>\n",
              "      <th>wc</th>\n",
              "      <th>rc</th>\n",
              "      <th>htn</th>\n",
              "      <th>dm</th>\n",
              "      <th>cad</th>\n",
              "      <th>appet</th>\n",
              "      <th>pe</th>\n",
              "      <th>ane</th>\n",
              "      <th>classification</th>\n",
              "    </tr>\n",
              "  </thead>\n",
              "  <tbody>\n",
              "    <tr>\n",
              "      <th>0</th>\n",
              "      <td>0</td>\n",
              "      <td>48.0</td>\n",
              "      <td>80.0</td>\n",
              "      <td>1.020</td>\n",
              "      <td>1.0</td>\n",
              "      <td>0.0</td>\n",
              "      <td>NaN</td>\n",
              "      <td>normal</td>\n",
              "      <td>notpresent</td>\n",
              "      <td>notpresent</td>\n",
              "      <td>...</td>\n",
              "      <td>44.0</td>\n",
              "      <td>7800.0</td>\n",
              "      <td>5.2</td>\n",
              "      <td>yes</td>\n",
              "      <td>yes</td>\n",
              "      <td>no</td>\n",
              "      <td>good</td>\n",
              "      <td>no</td>\n",
              "      <td>no</td>\n",
              "      <td>ckd</td>\n",
              "    </tr>\n",
              "    <tr>\n",
              "      <th>1</th>\n",
              "      <td>1</td>\n",
              "      <td>7.0</td>\n",
              "      <td>50.0</td>\n",
              "      <td>1.020</td>\n",
              "      <td>4.0</td>\n",
              "      <td>0.0</td>\n",
              "      <td>NaN</td>\n",
              "      <td>normal</td>\n",
              "      <td>notpresent</td>\n",
              "      <td>notpresent</td>\n",
              "      <td>...</td>\n",
              "      <td>38.0</td>\n",
              "      <td>6000.0</td>\n",
              "      <td>NaN</td>\n",
              "      <td>no</td>\n",
              "      <td>no</td>\n",
              "      <td>no</td>\n",
              "      <td>good</td>\n",
              "      <td>no</td>\n",
              "      <td>no</td>\n",
              "      <td>ckd</td>\n",
              "    </tr>\n",
              "    <tr>\n",
              "      <th>2</th>\n",
              "      <td>2</td>\n",
              "      <td>62.0</td>\n",
              "      <td>80.0</td>\n",
              "      <td>1.010</td>\n",
              "      <td>2.0</td>\n",
              "      <td>3.0</td>\n",
              "      <td>normal</td>\n",
              "      <td>normal</td>\n",
              "      <td>notpresent</td>\n",
              "      <td>notpresent</td>\n",
              "      <td>...</td>\n",
              "      <td>31.0</td>\n",
              "      <td>7500.0</td>\n",
              "      <td>NaN</td>\n",
              "      <td>no</td>\n",
              "      <td>yes</td>\n",
              "      <td>no</td>\n",
              "      <td>poor</td>\n",
              "      <td>no</td>\n",
              "      <td>yes</td>\n",
              "      <td>ckd</td>\n",
              "    </tr>\n",
              "    <tr>\n",
              "      <th>3</th>\n",
              "      <td>3</td>\n",
              "      <td>48.0</td>\n",
              "      <td>70.0</td>\n",
              "      <td>1.005</td>\n",
              "      <td>4.0</td>\n",
              "      <td>0.0</td>\n",
              "      <td>normal</td>\n",
              "      <td>abnormal</td>\n",
              "      <td>present</td>\n",
              "      <td>notpresent</td>\n",
              "      <td>...</td>\n",
              "      <td>32.0</td>\n",
              "      <td>6700.0</td>\n",
              "      <td>3.9</td>\n",
              "      <td>yes</td>\n",
              "      <td>no</td>\n",
              "      <td>no</td>\n",
              "      <td>poor</td>\n",
              "      <td>yes</td>\n",
              "      <td>yes</td>\n",
              "      <td>ckd</td>\n",
              "    </tr>\n",
              "    <tr>\n",
              "      <th>4</th>\n",
              "      <td>4</td>\n",
              "      <td>51.0</td>\n",
              "      <td>80.0</td>\n",
              "      <td>1.010</td>\n",
              "      <td>2.0</td>\n",
              "      <td>0.0</td>\n",
              "      <td>normal</td>\n",
              "      <td>normal</td>\n",
              "      <td>notpresent</td>\n",
              "      <td>notpresent</td>\n",
              "      <td>...</td>\n",
              "      <td>35.0</td>\n",
              "      <td>7300.0</td>\n",
              "      <td>4.6</td>\n",
              "      <td>no</td>\n",
              "      <td>no</td>\n",
              "      <td>no</td>\n",
              "      <td>good</td>\n",
              "      <td>no</td>\n",
              "      <td>no</td>\n",
              "      <td>ckd</td>\n",
              "    </tr>\n",
              "    <tr>\n",
              "      <th>...</th>\n",
              "      <td>...</td>\n",
              "      <td>...</td>\n",
              "      <td>...</td>\n",
              "      <td>...</td>\n",
              "      <td>...</td>\n",
              "      <td>...</td>\n",
              "      <td>...</td>\n",
              "      <td>...</td>\n",
              "      <td>...</td>\n",
              "      <td>...</td>\n",
              "      <td>...</td>\n",
              "      <td>...</td>\n",
              "      <td>...</td>\n",
              "      <td>...</td>\n",
              "      <td>...</td>\n",
              "      <td>...</td>\n",
              "      <td>...</td>\n",
              "      <td>...</td>\n",
              "      <td>...</td>\n",
              "      <td>...</td>\n",
              "      <td>...</td>\n",
              "    </tr>\n",
              "    <tr>\n",
              "      <th>395</th>\n",
              "      <td>395</td>\n",
              "      <td>55.0</td>\n",
              "      <td>80.0</td>\n",
              "      <td>1.020</td>\n",
              "      <td>0.0</td>\n",
              "      <td>0.0</td>\n",
              "      <td>normal</td>\n",
              "      <td>normal</td>\n",
              "      <td>notpresent</td>\n",
              "      <td>notpresent</td>\n",
              "      <td>...</td>\n",
              "      <td>47.0</td>\n",
              "      <td>6700.0</td>\n",
              "      <td>4.9</td>\n",
              "      <td>no</td>\n",
              "      <td>no</td>\n",
              "      <td>no</td>\n",
              "      <td>good</td>\n",
              "      <td>no</td>\n",
              "      <td>no</td>\n",
              "      <td>notckd</td>\n",
              "    </tr>\n",
              "    <tr>\n",
              "      <th>396</th>\n",
              "      <td>396</td>\n",
              "      <td>42.0</td>\n",
              "      <td>70.0</td>\n",
              "      <td>1.025</td>\n",
              "      <td>0.0</td>\n",
              "      <td>0.0</td>\n",
              "      <td>normal</td>\n",
              "      <td>normal</td>\n",
              "      <td>notpresent</td>\n",
              "      <td>notpresent</td>\n",
              "      <td>...</td>\n",
              "      <td>54.0</td>\n",
              "      <td>7800.0</td>\n",
              "      <td>6.2</td>\n",
              "      <td>no</td>\n",
              "      <td>no</td>\n",
              "      <td>no</td>\n",
              "      <td>good</td>\n",
              "      <td>no</td>\n",
              "      <td>no</td>\n",
              "      <td>notckd</td>\n",
              "    </tr>\n",
              "    <tr>\n",
              "      <th>397</th>\n",
              "      <td>397</td>\n",
              "      <td>12.0</td>\n",
              "      <td>80.0</td>\n",
              "      <td>1.020</td>\n",
              "      <td>0.0</td>\n",
              "      <td>0.0</td>\n",
              "      <td>normal</td>\n",
              "      <td>normal</td>\n",
              "      <td>notpresent</td>\n",
              "      <td>notpresent</td>\n",
              "      <td>...</td>\n",
              "      <td>49.0</td>\n",
              "      <td>6600.0</td>\n",
              "      <td>5.4</td>\n",
              "      <td>no</td>\n",
              "      <td>no</td>\n",
              "      <td>no</td>\n",
              "      <td>good</td>\n",
              "      <td>no</td>\n",
              "      <td>no</td>\n",
              "      <td>notckd</td>\n",
              "    </tr>\n",
              "    <tr>\n",
              "      <th>398</th>\n",
              "      <td>398</td>\n",
              "      <td>17.0</td>\n",
              "      <td>60.0</td>\n",
              "      <td>1.025</td>\n",
              "      <td>0.0</td>\n",
              "      <td>0.0</td>\n",
              "      <td>normal</td>\n",
              "      <td>normal</td>\n",
              "      <td>notpresent</td>\n",
              "      <td>notpresent</td>\n",
              "      <td>...</td>\n",
              "      <td>51.0</td>\n",
              "      <td>7200.0</td>\n",
              "      <td>5.9</td>\n",
              "      <td>no</td>\n",
              "      <td>no</td>\n",
              "      <td>no</td>\n",
              "      <td>good</td>\n",
              "      <td>no</td>\n",
              "      <td>no</td>\n",
              "      <td>notckd</td>\n",
              "    </tr>\n",
              "    <tr>\n",
              "      <th>399</th>\n",
              "      <td>399</td>\n",
              "      <td>58.0</td>\n",
              "      <td>80.0</td>\n",
              "      <td>1.025</td>\n",
              "      <td>0.0</td>\n",
              "      <td>0.0</td>\n",
              "      <td>normal</td>\n",
              "      <td>normal</td>\n",
              "      <td>notpresent</td>\n",
              "      <td>notpresent</td>\n",
              "      <td>...</td>\n",
              "      <td>53.0</td>\n",
              "      <td>6800.0</td>\n",
              "      <td>6.1</td>\n",
              "      <td>no</td>\n",
              "      <td>no</td>\n",
              "      <td>no</td>\n",
              "      <td>good</td>\n",
              "      <td>no</td>\n",
              "      <td>no</td>\n",
              "      <td>notckd</td>\n",
              "    </tr>\n",
              "  </tbody>\n",
              "</table>\n",
              "<p>400 rows × 26 columns</p>\n",
              "</div>\n",
              "    <div class=\"colab-df-buttons\">\n",
              "\n",
              "  <div class=\"colab-df-container\">\n",
              "    <button class=\"colab-df-convert\" onclick=\"convertToInteractive('df-a9c37c09-9f8b-40ac-a868-19c8525be5c1')\"\n",
              "            title=\"Convert this dataframe to an interactive table.\"\n",
              "            style=\"display:none;\">\n",
              "\n",
              "  <svg xmlns=\"http://www.w3.org/2000/svg\" height=\"24px\" viewBox=\"0 -960 960 960\">\n",
              "    <path d=\"M120-120v-720h720v720H120Zm60-500h600v-160H180v160Zm220 220h160v-160H400v160Zm0 220h160v-160H400v160ZM180-400h160v-160H180v160Zm440 0h160v-160H620v160ZM180-180h160v-160H180v160Zm440 0h160v-160H620v160Z\"/>\n",
              "  </svg>\n",
              "    </button>\n",
              "\n",
              "  <style>\n",
              "    .colab-df-container {\n",
              "      display:flex;\n",
              "      gap: 12px;\n",
              "    }\n",
              "\n",
              "    .colab-df-convert {\n",
              "      background-color: #E8F0FE;\n",
              "      border: none;\n",
              "      border-radius: 50%;\n",
              "      cursor: pointer;\n",
              "      display: none;\n",
              "      fill: #1967D2;\n",
              "      height: 32px;\n",
              "      padding: 0 0 0 0;\n",
              "      width: 32px;\n",
              "    }\n",
              "\n",
              "    .colab-df-convert:hover {\n",
              "      background-color: #E2EBFA;\n",
              "      box-shadow: 0px 1px 2px rgba(60, 64, 67, 0.3), 0px 1px 3px 1px rgba(60, 64, 67, 0.15);\n",
              "      fill: #174EA6;\n",
              "    }\n",
              "\n",
              "    .colab-df-buttons div {\n",
              "      margin-bottom: 4px;\n",
              "    }\n",
              "\n",
              "    [theme=dark] .colab-df-convert {\n",
              "      background-color: #3B4455;\n",
              "      fill: #D2E3FC;\n",
              "    }\n",
              "\n",
              "    [theme=dark] .colab-df-convert:hover {\n",
              "      background-color: #434B5C;\n",
              "      box-shadow: 0px 1px 3px 1px rgba(0, 0, 0, 0.15);\n",
              "      filter: drop-shadow(0px 1px 2px rgba(0, 0, 0, 0.3));\n",
              "      fill: #FFFFFF;\n",
              "    }\n",
              "  </style>\n",
              "\n",
              "    <script>\n",
              "      const buttonEl =\n",
              "        document.querySelector('#df-a9c37c09-9f8b-40ac-a868-19c8525be5c1 button.colab-df-convert');\n",
              "      buttonEl.style.display =\n",
              "        google.colab.kernel.accessAllowed ? 'block' : 'none';\n",
              "\n",
              "      async function convertToInteractive(key) {\n",
              "        const element = document.querySelector('#df-a9c37c09-9f8b-40ac-a868-19c8525be5c1');\n",
              "        const dataTable =\n",
              "          await google.colab.kernel.invokeFunction('convertToInteractive',\n",
              "                                                    [key], {});\n",
              "        if (!dataTable) return;\n",
              "\n",
              "        const docLinkHtml = 'Like what you see? Visit the ' +\n",
              "          '<a target=\"_blank\" href=https://colab.research.google.com/notebooks/data_table.ipynb>data table notebook</a>'\n",
              "          + ' to learn more about interactive tables.';\n",
              "        element.innerHTML = '';\n",
              "        dataTable['output_type'] = 'display_data';\n",
              "        await google.colab.output.renderOutput(dataTable, element);\n",
              "        const docLink = document.createElement('div');\n",
              "        docLink.innerHTML = docLinkHtml;\n",
              "        element.appendChild(docLink);\n",
              "      }\n",
              "    </script>\n",
              "  </div>\n",
              "\n",
              "\n",
              "<div id=\"df-d0465c4e-3810-4a27-8bc8-141cbf8b765b\">\n",
              "  <button class=\"colab-df-quickchart\" onclick=\"quickchart('df-d0465c4e-3810-4a27-8bc8-141cbf8b765b')\"\n",
              "            title=\"Suggest charts\"\n",
              "            style=\"display:none;\">\n",
              "\n",
              "<svg xmlns=\"http://www.w3.org/2000/svg\" height=\"24px\"viewBox=\"0 0 24 24\"\n",
              "     width=\"24px\">\n",
              "    <g>\n",
              "        <path d=\"M19 3H5c-1.1 0-2 .9-2 2v14c0 1.1.9 2 2 2h14c1.1 0 2-.9 2-2V5c0-1.1-.9-2-2-2zM9 17H7v-7h2v7zm4 0h-2V7h2v10zm4 0h-2v-4h2v4z\"/>\n",
              "    </g>\n",
              "</svg>\n",
              "  </button>\n",
              "\n",
              "<style>\n",
              "  .colab-df-quickchart {\n",
              "      --bg-color: #E8F0FE;\n",
              "      --fill-color: #1967D2;\n",
              "      --hover-bg-color: #E2EBFA;\n",
              "      --hover-fill-color: #174EA6;\n",
              "      --disabled-fill-color: #AAA;\n",
              "      --disabled-bg-color: #DDD;\n",
              "  }\n",
              "\n",
              "  [theme=dark] .colab-df-quickchart {\n",
              "      --bg-color: #3B4455;\n",
              "      --fill-color: #D2E3FC;\n",
              "      --hover-bg-color: #434B5C;\n",
              "      --hover-fill-color: #FFFFFF;\n",
              "      --disabled-bg-color: #3B4455;\n",
              "      --disabled-fill-color: #666;\n",
              "  }\n",
              "\n",
              "  .colab-df-quickchart {\n",
              "    background-color: var(--bg-color);\n",
              "    border: none;\n",
              "    border-radius: 50%;\n",
              "    cursor: pointer;\n",
              "    display: none;\n",
              "    fill: var(--fill-color);\n",
              "    height: 32px;\n",
              "    padding: 0;\n",
              "    width: 32px;\n",
              "  }\n",
              "\n",
              "  .colab-df-quickchart:hover {\n",
              "    background-color: var(--hover-bg-color);\n",
              "    box-shadow: 0 1px 2px rgba(60, 64, 67, 0.3), 0 1px 3px 1px rgba(60, 64, 67, 0.15);\n",
              "    fill: var(--button-hover-fill-color);\n",
              "  }\n",
              "\n",
              "  .colab-df-quickchart-complete:disabled,\n",
              "  .colab-df-quickchart-complete:disabled:hover {\n",
              "    background-color: var(--disabled-bg-color);\n",
              "    fill: var(--disabled-fill-color);\n",
              "    box-shadow: none;\n",
              "  }\n",
              "\n",
              "  .colab-df-spinner {\n",
              "    border: 2px solid var(--fill-color);\n",
              "    border-color: transparent;\n",
              "    border-bottom-color: var(--fill-color);\n",
              "    animation:\n",
              "      spin 1s steps(1) infinite;\n",
              "  }\n",
              "\n",
              "  @keyframes spin {\n",
              "    0% {\n",
              "      border-color: transparent;\n",
              "      border-bottom-color: var(--fill-color);\n",
              "      border-left-color: var(--fill-color);\n",
              "    }\n",
              "    20% {\n",
              "      border-color: transparent;\n",
              "      border-left-color: var(--fill-color);\n",
              "      border-top-color: var(--fill-color);\n",
              "    }\n",
              "    30% {\n",
              "      border-color: transparent;\n",
              "      border-left-color: var(--fill-color);\n",
              "      border-top-color: var(--fill-color);\n",
              "      border-right-color: var(--fill-color);\n",
              "    }\n",
              "    40% {\n",
              "      border-color: transparent;\n",
              "      border-right-color: var(--fill-color);\n",
              "      border-top-color: var(--fill-color);\n",
              "    }\n",
              "    60% {\n",
              "      border-color: transparent;\n",
              "      border-right-color: var(--fill-color);\n",
              "    }\n",
              "    80% {\n",
              "      border-color: transparent;\n",
              "      border-right-color: var(--fill-color);\n",
              "      border-bottom-color: var(--fill-color);\n",
              "    }\n",
              "    90% {\n",
              "      border-color: transparent;\n",
              "      border-bottom-color: var(--fill-color);\n",
              "    }\n",
              "  }\n",
              "</style>\n",
              "\n",
              "  <script>\n",
              "    async function quickchart(key) {\n",
              "      const quickchartButtonEl =\n",
              "        document.querySelector('#' + key + ' button');\n",
              "      quickchartButtonEl.disabled = true;  // To prevent multiple clicks.\n",
              "      quickchartButtonEl.classList.add('colab-df-spinner');\n",
              "      try {\n",
              "        const charts = await google.colab.kernel.invokeFunction(\n",
              "            'suggestCharts', [key], {});\n",
              "      } catch (error) {\n",
              "        console.error('Error during call to suggestCharts:', error);\n",
              "      }\n",
              "      quickchartButtonEl.classList.remove('colab-df-spinner');\n",
              "      quickchartButtonEl.classList.add('colab-df-quickchart-complete');\n",
              "    }\n",
              "    (() => {\n",
              "      let quickchartButtonEl =\n",
              "        document.querySelector('#df-d0465c4e-3810-4a27-8bc8-141cbf8b765b button');\n",
              "      quickchartButtonEl.style.display =\n",
              "        google.colab.kernel.accessAllowed ? 'block' : 'none';\n",
              "    })();\n",
              "  </script>\n",
              "</div>\n",
              "\n",
              "  <div id=\"id_3ed13202-d7ca-4eb4-8637-999d8440747e\">\n",
              "    <style>\n",
              "      .colab-df-generate {\n",
              "        background-color: #E8F0FE;\n",
              "        border: none;\n",
              "        border-radius: 50%;\n",
              "        cursor: pointer;\n",
              "        display: none;\n",
              "        fill: #1967D2;\n",
              "        height: 32px;\n",
              "        padding: 0 0 0 0;\n",
              "        width: 32px;\n",
              "      }\n",
              "\n",
              "      .colab-df-generate:hover {\n",
              "        background-color: #E2EBFA;\n",
              "        box-shadow: 0px 1px 2px rgba(60, 64, 67, 0.3), 0px 1px 3px 1px rgba(60, 64, 67, 0.15);\n",
              "        fill: #174EA6;\n",
              "      }\n",
              "\n",
              "      [theme=dark] .colab-df-generate {\n",
              "        background-color: #3B4455;\n",
              "        fill: #D2E3FC;\n",
              "      }\n",
              "\n",
              "      [theme=dark] .colab-df-generate:hover {\n",
              "        background-color: #434B5C;\n",
              "        box-shadow: 0px 1px 3px 1px rgba(0, 0, 0, 0.15);\n",
              "        filter: drop-shadow(0px 1px 2px rgba(0, 0, 0, 0.3));\n",
              "        fill: #FFFFFF;\n",
              "      }\n",
              "    </style>\n",
              "    <button class=\"colab-df-generate\" onclick=\"generateWithVariable('dataset')\"\n",
              "            title=\"Generate code using this dataframe.\"\n",
              "            style=\"display:none;\">\n",
              "\n",
              "  <svg xmlns=\"http://www.w3.org/2000/svg\" height=\"24px\"viewBox=\"0 0 24 24\"\n",
              "       width=\"24px\">\n",
              "    <path d=\"M7,19H8.4L18.45,9,17,7.55,7,17.6ZM5,21V16.75L18.45,3.32a2,2,0,0,1,2.83,0l1.4,1.43a1.91,1.91,0,0,1,.58,1.4,1.91,1.91,0,0,1-.58,1.4L9.25,21ZM18.45,9,17,7.55Zm-12,3A5.31,5.31,0,0,0,4.9,8.1,5.31,5.31,0,0,0,1,6.5,5.31,5.31,0,0,0,4.9,4.9,5.31,5.31,0,0,0,6.5,1,5.31,5.31,0,0,0,8.1,4.9,5.31,5.31,0,0,0,12,6.5,5.46,5.46,0,0,0,6.5,12Z\"/>\n",
              "  </svg>\n",
              "    </button>\n",
              "    <script>\n",
              "      (() => {\n",
              "      const buttonEl =\n",
              "        document.querySelector('#id_3ed13202-d7ca-4eb4-8637-999d8440747e button.colab-df-generate');\n",
              "      buttonEl.style.display =\n",
              "        google.colab.kernel.accessAllowed ? 'block' : 'none';\n",
              "\n",
              "      buttonEl.onclick = () => {\n",
              "        google.colab.notebook.generateWithVariable('dataset');\n",
              "      }\n",
              "      })();\n",
              "    </script>\n",
              "  </div>\n",
              "\n",
              "    </div>\n",
              "  </div>\n"
            ],
            "application/vnd.google.colaboratory.intrinsic+json": {
              "type": "dataframe",
              "variable_name": "dataset"
            }
          },
          "metadata": {},
          "execution_count": 6
        }
      ],
      "source": [
        "dataset = pd.read_csv(\"kidney_disease.csv\")\n",
        "dataset"
      ]
    },
    {
      "cell_type": "code",
      "execution_count": null,
      "metadata": {
        "id": "FyzjQh_o2mJA",
        "colab": {
          "base_uri": "https://localhost:8080/"
        },
        "outputId": "be564fe9-6084-4b64-8e68-23a1fac60cdb"
      },
      "outputs": [
        {
          "output_type": "execute_result",
          "data": {
            "text/plain": [
              "Index(['id', 'age', 'bp', 'sg', 'al', 'su', 'rbc', 'pc', 'pcc', 'ba', 'bgr',\n",
              "       'bu', 'sc', 'sod', 'pot', 'hemo', 'pcv', 'wc', 'rc', 'htn', 'dm', 'cad',\n",
              "       'appet', 'pe', 'ane', 'classification'],\n",
              "      dtype='object')"
            ]
          },
          "metadata": {},
          "execution_count": 7
        }
      ],
      "source": [
        "dataset.columns"
      ]
    },
    {
      "cell_type": "code",
      "execution_count": null,
      "metadata": {
        "id": "RfbC2KuR2mJB",
        "colab": {
          "base_uri": "https://localhost:8080/"
        },
        "outputId": "e32b5c5d-1020-48c2-821d-a32f0a68bb3f"
      },
      "outputs": [
        {
          "output_type": "stream",
          "name": "stdout",
          "text": [
            "<class 'pandas.core.frame.DataFrame'>\n",
            "RangeIndex: 400 entries, 0 to 399\n",
            "Data columns (total 26 columns):\n",
            " #   Column          Non-Null Count  Dtype  \n",
            "---  ------          --------------  -----  \n",
            " 0   id              400 non-null    object \n",
            " 1   age             376 non-null    float64\n",
            " 2   bp              376 non-null    float64\n",
            " 3   sg              341 non-null    float64\n",
            " 4   al              342 non-null    float64\n",
            " 5   su              340 non-null    float64\n",
            " 6   rbc             243 non-null    object \n",
            " 7   pc              324 non-null    object \n",
            " 8   pcc             381 non-null    object \n",
            " 9   ba              381 non-null    object \n",
            " 10  bgr             343 non-null    float64\n",
            " 11  bu              367 non-null    float64\n",
            " 12  sc              369 non-null    float64\n",
            " 13  sod             304 non-null    float64\n",
            " 14  pot             303 non-null    float64\n",
            " 15  hemo            338 non-null    float64\n",
            " 16  pcv             320 non-null    float64\n",
            " 17  wc              286 non-null    float64\n",
            " 18  rc              263 non-null    float64\n",
            " 19  htn             383 non-null    object \n",
            " 20  dm              383 non-null    object \n",
            " 21  cad             383 non-null    object \n",
            " 22  appet           384 non-null    object \n",
            " 23  pe              384 non-null    object \n",
            " 24  ane             384 non-null    object \n",
            " 25  classification  385 non-null    object \n",
            "dtypes: float64(14), object(12)\n",
            "memory usage: 81.4+ KB\n"
          ]
        }
      ],
      "source": [
        "dataset.info()"
      ]
    },
    {
      "cell_type": "code",
      "execution_count": null,
      "metadata": {
        "id": "4oAXIlER2mJC",
        "colab": {
          "base_uri": "https://localhost:8080/"
        },
        "outputId": "36e868cc-0a47-46b9-935f-219756ef0430"
      },
      "outputs": [
        {
          "output_type": "execute_result",
          "data": {
            "text/plain": [
              "id                False\n",
              "age                True\n",
              "bp                 True\n",
              "sg                 True\n",
              "al                 True\n",
              "su                 True\n",
              "rbc                True\n",
              "pc                 True\n",
              "pcc                True\n",
              "ba                 True\n",
              "bgr                True\n",
              "bu                 True\n",
              "sc                 True\n",
              "sod                True\n",
              "pot                True\n",
              "hemo               True\n",
              "pcv                True\n",
              "wc                 True\n",
              "rc                 True\n",
              "htn                True\n",
              "dm                 True\n",
              "cad                True\n",
              "appet              True\n",
              "pe                 True\n",
              "ane                True\n",
              "classification     True\n",
              "dtype: bool"
            ]
          },
          "metadata": {},
          "execution_count": 9
        }
      ],
      "source": [
        "dataset.isnull().any()"
      ]
    },
    {
      "cell_type": "code",
      "execution_count": null,
      "metadata": {
        "id": "MQcl-qyT2mJD",
        "colab": {
          "base_uri": "https://localhost:8080/"
        },
        "outputId": "7d96c175-5de0-4e15-a099-e4bd38c56409"
      },
      "outputs": [
        {
          "output_type": "execute_result",
          "data": {
            "text/plain": [
              "id                  0\n",
              "age                24\n",
              "bp                 24\n",
              "sg                 59\n",
              "al                 58\n",
              "su                 60\n",
              "rbc               157\n",
              "pc                 76\n",
              "pcc                19\n",
              "ba                 19\n",
              "bgr                57\n",
              "bu                 33\n",
              "sc                 31\n",
              "sod                96\n",
              "pot                97\n",
              "hemo               62\n",
              "pcv                80\n",
              "wc                114\n",
              "rc                137\n",
              "htn                17\n",
              "dm                 17\n",
              "cad                17\n",
              "appet              16\n",
              "pe                 16\n",
              "ane                16\n",
              "classification     15\n",
              "dtype: int64"
            ]
          },
          "metadata": {},
          "execution_count": 10
        }
      ],
      "source": [
        "dataset.isnull().sum()"
      ]
    },
    {
      "cell_type": "markdown",
      "source": [
        "## **Scatter plot**\n"
      ],
      "metadata": {
        "id": "t1Tyi92DXVoo"
      }
    },
    {
      "cell_type": "code",
      "source": [
        "# prompt: Scatter plot of  Sc over Hemo with different color\n",
        "\n",
        "import matplotlib.pyplot as plt\n",
        "sns.scatterplot(x = \"sc\", y = \"hemo\", hue = \"hemo\", data = dataset)\n",
        "plt.show()\n"
      ],
      "metadata": {
        "colab": {
          "base_uri": "https://localhost:8080/",
          "height": 449
        },
        "id": "hbrzToeHQXfR",
        "outputId": "2fd8ded3-c21a-48f2-ead9-bffe73d67c84"
      },
      "execution_count": null,
      "outputs": [
        {
          "output_type": "display_data",
          "data": {
            "text/plain": [
              "<Figure size 640x480 with 1 Axes>"
            ],
            "image/png": "[encoded data removed]"
          },
          "metadata": {}
        }
      ]
    },
    {
      "cell_type": "code",
      "execution_count": null,
      "metadata": {
        "id": "ZyMsoKkf2mJE"
      },
      "outputs": [],
      "source": [
        "dataset.describe()"
      ]
    },
    {
      "cell_type": "code",
      "execution_count": null,
      "metadata": {
        "id": "jidEXzsD2mJF"
      },
      "outputs": [],
      "source": [
        "dataset['Al'].value_counts()"
      ]
    },
    {
      "cell_type": "code",
      "execution_count": null,
      "metadata": {
        "id": "wXS9Ek5H2mJG"
      },
      "outputs": [],
      "source": [
        "#Data Visualization"
      ]
    },
    {
      "cell_type": "markdown",
      "metadata": {
        "id": "YTOi47HD2mJH"
      },
      "source": [
        "# Heat Map"
      ]
    },
    {
      "cell_type": "code",
      "execution_count": null,
      "metadata": {
        "id": "y9QyfKez2mJL"
      },
      "outputs": [],
      "source": [
        "sns.heatmap(dataset.corr())"
      ]
    },
    {
      "cell_type": "markdown",
      "metadata": {
        "id": "VvxOO_Ld2mJN"
      },
      "source": [
        "# Scatter plot"
      ]
    },
    {
      "cell_type": "code",
      "execution_count": null,
      "metadata": {
        "id": "MKT8Gqim2mJO"
      },
      "outputs": [],
      "source": [
        "\n",
        "\n",
        "plt.scatter(dataset['Hemo'],dataset['Bu'],color='g')\n",
        "plt.xlabel(\"Hemoglobin\")\n",
        "plt.ylabel(\"BloodUrea\")\n",
        "plt.title(\"Hemo\")\n",
        "plt.show()"
      ]
    },
    {
      "cell_type": "markdown",
      "metadata": {
        "id": "WNjK3SaJ2mJP"
      },
      "source": [
        "# Pair plots"
      ]
    },
    {
      "cell_type": "code",
      "execution_count": null,
      "metadata": {
        "id": "RzVr94KF2mJQ"
      },
      "outputs": [],
      "source": [
        "sns.set(style=\"ticks\", color_codes=True)\n",
        "sns.pairplot(dataset)"
      ]
    },
    {
      "cell_type": "markdown",
      "metadata": {
        "id": "TT3-04YY2mJR"
      },
      "source": [
        "# Box plots"
      ]
    },
    {
      "cell_type": "code",
      "source": [
        "# prompt: draw box plots Hemo and Rbcc\n",
        "\n",
        "import matplotlib.pyplot as plt\n",
        "sns.boxplot(x = dataset[\"Hemo\"])\n",
        "plt.show()\n",
        "sns.boxplot(x = dataset[\"Rbcc\"])\n",
        "plt.show()\n"
      ],
      "metadata": {
        "id": "cLzUQtZQt_-R"
      },
      "execution_count": null,
      "outputs": []
    },
    {
      "cell_type": "code",
      "source": [
        "# prompt:  Violin plots Rbc and Hemo\n",
        "\n",
        "import matplotlib.pyplot as plt\n",
        "sns.violinplot(x=dataset[\"Rbc\"], y=dataset[\"Hemo\"])\n",
        "plt.show()\n"
      ],
      "metadata": {
        "id": "n1FcNTidkwM3"
      },
      "execution_count": null,
      "outputs": []
    },
    {
      "cell_type": "code",
      "source": [
        "# prompt: Joint plot Bp and Sg\n",
        "\n",
        "import matplotlib.pyplot as plt\n",
        "sns.jointplot(x = \"Bp\", y = \"Sg\", data = dataset)\n",
        "plt.show()\n"
      ],
      "metadata": {
        "id": "Ocs5qK95ljrf"
      },
      "execution_count": null,
      "outputs": []
    },
    {
      "cell_type": "markdown",
      "metadata": {
        "id": "qXaieT-y2mJX"
      },
      "source": [
        "# Bar chart"
      ]
    },
    {
      "cell_type": "code",
      "execution_count": null,
      "metadata": {
        "id": "MArV_bIf2mJY"
      },
      "outputs": [],
      "source": [
        "plt.bar(dataset['Hemo'],dataset['Su'])"
      ]
    },
    {
      "cell_type": "markdown",
      "metadata": {
        "id": "q0gQP7dv2mJZ"
      },
      "source": [
        "# Line plots"
      ]
    },
    {
      "cell_type": "code",
      "execution_count": null,
      "metadata": {
        "id": "bhk67zi42mJZ"
      },
      "outputs": [],
      "source": [
        "plt.plot(dataset['Hemo'],dataset['Su'])"
      ]
    },
    {
      "cell_type": "code",
      "execution_count": null,
      "metadata": {
        "id": "e38UjBAD2mJa"
      },
      "outputs": [],
      "source": [
        "dataset.drop('Sg',axis=1,inplace=True)"
      ]
    },
    {
      "cell_type": "code",
      "execution_count": null,
      "metadata": {
        "id": "tqgz2kxW2mJb"
      },
      "outputs": [],
      "source": []
    },
    {
      "cell_type": "code",
      "execution_count": null,
      "metadata": {
        "id": "KSNSLZHy2mJc"
      },
      "outputs": [],
      "source": [
        "#Taking care of Missing Data"
      ]
    },
    {
      "cell_type": "code",
      "execution_count": null,
      "metadata": {
        "id": "AeJgWEpU2mJd"
      },
      "outputs": [],
      "source": [
        "dataset['Rbc']=dataset['Rbc'].fillna(value=dataset['Rbc'].mode().iloc[0])\n",
        "dataset"
      ]
    },
    {
      "cell_type": "code",
      "execution_count": null,
      "metadata": {
        "id": "JaYo8cYx2mJf"
      },
      "outputs": [],
      "source": [
        "dataset.isnull().any()"
      ]
    },
    {
      "cell_type": "code",
      "execution_count": null,
      "metadata": {
        "id": "NnoKtXSi2mJg"
      },
      "outputs": [],
      "source": [
        "dataset['Al']=dataset['Al'].fillna(value=dataset['Al'].mean())\n",
        "dataset['Su']=dataset['Su'].fillna(value=dataset['Su'].mean())\n",
        "dataset['Bu']=dataset['Bu'].fillna(value=dataset['Bu'].mean())\n",
        "dataset['Sc']=dataset['Sc'].fillna(value=dataset['Sc'].mean())\n",
        "dataset['Pot']=dataset['Pot'].fillna(value=dataset['Pot'].mean())\n",
        "dataset['Hemo']=dataset['Hemo'].fillna(value=dataset['Hemo'].mean())"
      ]
    },
    {
      "cell_type": "code",
      "execution_count": null,
      "metadata": {
        "id": "RG1gid-q2mJi"
      },
      "outputs": [],
      "source": [
        "dataset['Rbc']=dataset['Rbc'].fillna(value=dataset['Rbc'].mode().iloc[0])\n",
        "dataset['Wbcc']=dataset['Wbcc'].fillna(value=dataset['Wbcc'].mode().iloc[0])\n",
        "dataset['Rbcc']=dataset['Rbcc'].fillna(value=dataset['Rbcc'].mode().iloc[0])"
      ]
    },
    {
      "cell_type": "code",
      "execution_count": null,
      "metadata": {
        "id": "-jCUN1Eg2mJj"
      },
      "outputs": [],
      "source": [
        "dataset.Wbcc=dataset.Wbcc.replace(\"\\t6200\",6200)\n",
        "dataset.Wbcc=dataset.Wbcc.replace(\"\\t8400\",8400)\n",
        "dataset.Wbcc=dataset.Wbcc.replace(\"\\t?\",9800)\n",
        "dataset.Rbc=dataset.Rbc.replace(\"\\t43\",43)\n",
        "dataset.Rbc=dataset.Rbc.replace(\"\\t?\",41)\n",
        "dataset.Rbcc=dataset.Rbcc.replace(\"\\t?\",5.2)\n",
        "dataset['Wbcc'].value_counts()\n",
        "dataset.Rbc=dataset.Rbc.astype(int)\n",
        "dataset.Wbcc=dataset.Wbcc.astype(int)\n",
        "dataset.Rbcc=dataset.Rbcc.astype(float)\n",
        "dataset['Wbcc'].value_counts()"
      ]
    },
    {
      "cell_type": "code",
      "execution_count": null,
      "metadata": {
        "id": "0xBbEap52mJl"
      },
      "outputs": [],
      "source": [
        "#Label Encoding"
      ]
    },
    {
      "cell_type": "code",
      "execution_count": null,
      "metadata": {
        "scrolled": true,
        "id": "qAd8jjgu2mKO"
      },
      "outputs": [],
      "source": [
        "\n",
        "dataset.Al = [ 1 if each == \"present\" else 0 for each in dataset.Al]\n",
        "dataset.Su = [ 1 if each == \"present\" else 0 for each in dataset.Su]\n",
        "dataset.Rbc = [ 1 if each == \"present\" else 0 for each in dataset.Rbc]\n",
        "dataset.Bu = [ 1 if each == \"present\" else 0 for each in dataset.Bu]\n",
        "dataset.Sc = [ 1 if each == \"present\" else 0 for each in dataset.Sc]\n",
        "dataset.Sod = [ 1 if each == \"present\" else 0 for each in dataset.Sod]\n",
        "dataset.Pot = [ 1 if each == \"present\" else 0 for each in dataset.Pot]\n",
        "dataset.Hemo = [ 1 if each == \"present\" else 0 for each in dataset.Hemo]\n",
        "dataset.Wbcc = [ 1 if each == \"present\" else 0 for each in dataset.Wbcc]\n",
        "dataset"
      ]
    },
    {
      "cell_type": "code",
      "execution_count": null,
      "metadata": {
        "id": "NA9Nr15P2mKP"
      },
      "outputs": [],
      "source": [
        "x=dataset.iloc[:,:14]\n",
        "x"
      ]
    },
    {
      "cell_type": "code",
      "execution_count": null,
      "metadata": {
        "id": "9G_OtpkV2mKQ"
      },
      "outputs": [],
      "source": [
        "y=dataset.iloc[:,14:]\n",
        "y"
      ]
    },
    {
      "cell_type": "code",
      "execution_count": null,
      "metadata": {
        "id": "-p3a9KLl2mKR"
      },
      "outputs": [],
      "source": [
        "#Splitting Data into Train and Test"
      ]
    },
    {
      "cell_type": "code",
      "execution_count": null,
      "metadata": {
        "id": "WzdWGabH2mKR"
      },
      "outputs": [],
      "source": [
        "from sklearn.model_selection import train_test_split"
      ]
    },
    {
      "cell_type": "code",
      "execution_count": null,
      "metadata": {
        "id": "vzgQH7Hj2mKS"
      },
      "outputs": [],
      "source": [
        "x_train,x_test,y_train,y_test=train_test_split(x,y,test_size=0.3,random_state=1)"
      ]
    },
    {
      "cell_type": "code",
      "execution_count": null,
      "metadata": {
        "id": "hy-Lg4So2mKT"
      },
      "outputs": [],
      "source": [
        "x_train.iloc[:,1:]"
      ]
    },
    {
      "cell_type": "markdown",
      "source": [
        "## **Logistic Regression Classification**"
      ],
      "metadata": {
        "id": "vQ_9xy49IHsU"
      }
    },
    {
      "cell_type": "code",
      "source": [
        "#Logistic Regression Classification"
      ],
      "metadata": {
        "id": "2xB1HdqqAAo5"
      },
      "execution_count": null,
      "outputs": []
    },
    {
      "cell_type": "code",
      "source": [
        "X = dataset.drop('Class', axis=1)\n",
        "y = dataset['Class']"
      ],
      "metadata": {
        "id": "XWRcIZeD9sze"
      },
      "execution_count": null,
      "outputs": []
    },
    {
      "cell_type": "code",
      "source": [
        "from sklearn.linear_model import LogisticRegression\n",
        "from sklearn.model_selection import train_test_split\n",
        "\n",
        "X_train, X_test, y_train, y_test = train_test_split(X, y, test_size=0.25)\n",
        "\n",
        "model= LogisticRegression(max_iter=1500)\n",
        "\n",
        "model.fit(X_train, y_train)\n",
        "\n",
        "y_pred= model.predict(X_test)"
      ],
      "metadata": {
        "id": "pufTyw84-FbE"
      },
      "execution_count": null,
      "outputs": []
    },
    {
      "cell_type": "code",
      "source": [
        "y_pred"
      ],
      "metadata": {
        "id": "H4Qjia2g-S63"
      },
      "execution_count": null,
      "outputs": []
    },
    {
      "cell_type": "code",
      "source": [
        "from sklearn.metrics import accuracy_score\n",
        "\n",
        "accuracy= accuracy_score(y_test,y_pred)\n",
        "print(\"Accuracy of the logistic regression is:\", accuracy)"
      ],
      "metadata": {
        "id": "c32QeYdC-YUP"
      },
      "execution_count": null,
      "outputs": []
    },
    {
      "cell_type": "code",
      "source": [
        "from sklearn.metrics import precision_score, recall_score\n",
        "\n",
        "precision= precision_score(y_test,y_pred)\n",
        "recall= recall_score(y_test,y_pred)\n",
        "\n",
        "print(\"Precision of the logistic regression is: \", precision)\n",
        "print(\"Recall of the logistic regression is :\", recall)"
      ],
      "metadata": {
        "id": "im5QQjq6-auO"
      },
      "execution_count": null,
      "outputs": []
    },
    {
      "cell_type": "markdown",
      "source": [
        "## **confusion matrix**\n"
      ],
      "metadata": {
        "id": "YAe6n3dNH7Do"
      }
    },
    {
      "cell_type": "code",
      "source": [
        "# prompt: draw Confusion Matrix logistic regression\n",
        "\n",
        "from sklearn.metrics import confusion_matrix\n",
        "import seaborn as sns\n",
        "import matplotlib.pyplot as plt\n",
        "\n",
        "cm = confusion_matrix(y_test, y_pred)\n",
        "\n",
        "plt.figure(figsize=(6, 6))\n",
        "sns.heatmap(cm, annot=True, fmt=\"d\", cmap=\"Blues\", cbar=False)\n",
        "plt.xlabel(\"Predicted Label\")\n",
        "plt.ylabel(\"True Label\")\n",
        "plt.title(\"Confusion Matrix for Logistic Regression\")\n",
        "plt.show()\n"
      ],
      "metadata": {
        "id": "b4GHHHc8HlAk"
      },
      "execution_count": null,
      "outputs": []
    },
    {
      "cell_type": "code",
      "execution_count": null,
      "metadata": {
        "id": "2vOoa1AV2mKT"
      },
      "outputs": [],
      "source": [
        "#Feature Scaling"
      ]
    },
    {
      "cell_type": "code",
      "execution_count": null,
      "metadata": {
        "id": "aoTHSbyM2mKU"
      },
      "outputs": [],
      "source": [
        "from sklearn.preprocessing import StandardScaler\n",
        "sc = StandardScaler()\n",
        "x_train = sc.fit_transform(x_train)\n",
        "x_test =  sc.transform(x_test)\n",
        "from joblib import dump\n",
        "dump(sc,\"scalarapp.save\")"
      ]
    },
    {
      "cell_type": "code",
      "source": [
        "#Decision Tree Classification"
      ],
      "metadata": {
        "id": "q2aPSIdP1qp0"
      },
      "execution_count": null,
      "outputs": []
    },
    {
      "cell_type": "code",
      "execution_count": null,
      "metadata": {
        "id": "_jez8gXy2mKV"
      },
      "outputs": [],
      "source": [
        "from sklearn.tree import DecisionTreeClassifier\n",
        "dt = DecisionTreeClassifier(criterion = 'entropy',random_state=0)\n",
        "dt.fit(x_train,y_train)\n",
        "\n",
        "\n",
        "import pickle\n",
        "pickle.dump(dt,open('decisionapp.pkl','Wb'))\n",
        "y_predict=dt.predict(x_test)\n",
        "y_predict"
      ]
    },
    {
      "cell_type": "code",
      "execution_count": null,
      "metadata": {
        "id": "rvKPVAO92mKY"
      },
      "outputs": [],
      "source": [
        "from sklearn.externals.six import StringIO\n",
        "from IPython.display import Image\n",
        "from sklearn.tree import export_graphviz\n",
        "import pydotplus\n",
        "dot_data = StringIO()\n",
        "export_graphviz(dt, out_file=dot_data,\n",
        "                filled=True, rounded=True,\n",
        "                special_characters=True)\n",
        "graph = pydotplus.graph_from_dot_data(dot_data.getvalue())\n",
        "#Image(graph.create_png())"
      ]
    },
    {
      "cell_type": "code",
      "execution_count": null,
      "metadata": {
        "id": "F4ymdc7y2mKZ"
      },
      "outputs": [],
      "source": [
        "#Evaluation"
      ]
    },
    {
      "cell_type": "code",
      "source": [
        "# prompt: ada bosst classifier\\\n",
        "\n",
        "from sklearn.ensemble import AdaBoostClassifier\n",
        "ada = AdaBoostClassifier(n_estimators=50, learning_rate=1)\n",
        "model = ada.fit(x_train, y_train)\n",
        "y_pred_ada = model.predict(x_test)\n"
      ],
      "metadata": {
        "id": "HM6FAJLkj3so"
      },
      "execution_count": null,
      "outputs": []
    },
    {
      "cell_type": "markdown",
      "metadata": {
        "id": "KTRd-Y6W2mKa"
      },
      "source": [
        "# Accuracy Score"
      ]
    },
    {
      "cell_type": "code",
      "execution_count": null,
      "metadata": {
        "id": "WyZrui_G2mKb"
      },
      "outputs": [],
      "source": [
        "from sklearn.metrics import accuracy_score\n",
        "accuracy_score(y_test,y_predict)"
      ]
    },
    {
      "cell_type": "markdown",
      "metadata": {
        "id": "r8gpdpro2mKc"
      },
      "source": [
        "# Confusion Matrix"
      ]
    },
    {
      "cell_type": "code",
      "execution_count": null,
      "metadata": {
        "id": "Y9kVOuu_2mKd"
      },
      "outputs": [],
      "source": [
        "from sklearn.metrics import confusion_matrix\n",
        "cm=confusion_matrix(y_test,y_predict)\n",
        "cm"
      ]
    },
    {
      "cell_type": "code",
      "execution_count": null,
      "metadata": {
        "id": "oyYzudQk2mKe"
      },
      "outputs": [],
      "source": [
        "TP = cm[1, 1]\n",
        "TN = cm[0, 0]\n",
        "FP = cm[0, 1]\n",
        "FN =cm[1, 0]\n",
        "r=(TP + TN) / float(TP + TN + FP + FN)\n",
        "r"
      ]
    },
    {
      "cell_type": "code",
      "execution_count": null,
      "metadata": {
        "id": "t_rLKa6L2mKf"
      },
      "outputs": [],
      "source": [
        "sns.heatmap(confusion_matrix(y_test,y_predict),annot=True,lw =2,cbar=False)\n",
        "plt.ylabel(\"True Values\")\n",
        "plt.xlabel(\"Predicted Values\")\n",
        "plt.title(\"CONFUSSION MATRIX VISUALIZATION\")\n",
        "plt.show()"
      ]
    },
    {
      "cell_type": "markdown",
      "metadata": {
        "id": "GOSq9hwN2mKg"
      },
      "source": [
        "# AUC - ROC Curve"
      ]
    },
    {
      "cell_type": "code",
      "execution_count": null,
      "metadata": {
        "id": "Y9jjqthM2mKh"
      },
      "outputs": [],
      "source": [
        "import sklearn.metrics as metrics\n",
        "fpr,tpr,threshold=metrics.roc_curve(y_test,y_predict)\n",
        "roc_auc=metrics.auc(fpr,tpr)\n",
        "roc_auc"
      ]
    },
    {
      "cell_type": "code",
      "execution_count": null,
      "metadata": {
        "id": "-ZfKNiN52mKh"
      },
      "outputs": [],
      "source": [
        "plt.title('Receiver operating characterists')\n",
        "plt.plot(fpr,tpr,'B',label='AUC=%0.2f'%roc_auc)\n",
        "plt.plot"
      ]
    },
    {
      "cell_type": "code",
      "execution_count": null,
      "metadata": {
        "id": "9VTabf2s2mKi"
      },
      "outputs": [],
      "source": []
    }
  ],
  "metadata": {
    "kernelspec": {
      "display_name": "Python 3",
      "language": "python",
      "name": "python3"
    },
    "language_info": {
      "codemirror_mode": {
        "name": "ipython",
        "version": 3
      },
      "file_extension": ".py",
      "mimetype": "text/x-python",
      "name": "python",
      "nbconvert_exporter": "python",
      "pygments_lexer": "ipython3",
      "version": "3.7.4"
    },
    "colab": {
      "provenance": [],
      "include_colab_link": true
    }
  },
  "nbformat": 4,
  "nbformat_minor": 0
}